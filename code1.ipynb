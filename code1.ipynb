{
 "cells": [
  {
   "cell_type": "code",
   "execution_count": 3,
   "metadata": {},
   "outputs": [],
   "source": [
    "import numpy as np\n",
    "import pandas as pd\n",
    "import matplotlib.pyplot as plt\n",
    "\n",
    "# Load the training data\n",
    "train_data = pd.read_csv('train.csv')\n",
    "x_train = train_data.drop('Survived', axis=1).values\n",
    "y_train = train_data['Survived'].values"
   ]
  },
  {
   "attachments": {},
   "cell_type": "markdown",
   "metadata": {},
   "source": [
    "Implementation of Naive Bayes Algorithm"
   ]
  },
  {
   "cell_type": "code",
   "execution_count": 4,
   "metadata": {},
   "outputs": [],
   "source": [
    "class NaiveBayes:\n",
    "    def __init__(self):\n",
    "        self.classes = None\n",
    "        self.class_priors = None\n",
    "        self.feature_probs = None\n",
    "    \n",
    "    def fit(self, x, y):\n",
    "        self.classes = np.unique(y)\n",
    "        num_classes = len(self.classes)\n",
    "        num_features = x.shape[1]\n",
    "        \n",
    "        # Compute class priors\n",
    "        self.class_priors = np.zeros(num_classes)\n",
    "        for i, c in enumerate(self.classes):\n",
    "            self.class_priors[i] = np.sum(y == c) / len(y)\n",
    "        \n",
    "        # Compute feature probabilities\n",
    "        self.feature_probs = np.zeros((num_classes, num_features))\n",
    "        for i, c in enumerate(self.classes):\n",
    "            x_c = x[y == c]\n",
    "            self.feature_probs[i] = (np.sum(x_c, axis=0) + 1) / (np.sum(x_c) + num_features)\n",
    "    \n",
    "    def predict(self, x):\n",
    "        num_samples = x.shape[0]\n",
    "        num_classes = len(self.classes)\n",
    "        y_pred = np.zeros(num_samples)\n",
    "        \n",
    "        for i in range(num_samples):\n",
    "            probabilities = np.zeros(num_classes)\n",
    "            for j in range(num_classes):\n",
    "                probabilities[j] = np.prod(x[i] * self.feature_probs[j]) * self.class_priors[j]\n",
    "            y_pred[i] = self.classes[np.argmax(probabilities)]\n",
    "        \n",
    "        return y_pred"
   ]
  },
  {
   "attachments": {},
   "cell_type": "markdown",
   "metadata": {},
   "source": [
    "Implementation of KNN Algorithm"
   ]
  },
  {
   "cell_type": "code",
   "execution_count": 5,
   "metadata": {},
   "outputs": [],
   "source": [
    "class KNN:\n",
    "    def __init__(self, k=5):\n",
    "        self.k = k\n",
    "        self.x_train = None\n",
    "        self.y_train = None\n",
    "    \n",
    "    def fit(self, x, y):\n",
    "        self.x_train = x\n",
    "        self.y_train = y\n",
    "    \n",
    "    def predict(self, x):\n",
    "        num_samples = x.shape[0]\n",
    "        y_pred = np.zeros(num_samples)\n",
    "        \n",
    "        for i in range(num_samples):\n",
    "            distances = np.linalg.norm(self.x_train - x[i], axis=1)\n",
    "            nearest_indices = np.argsort(distances)[:self.k]\n",
    "            nearest_labels = self.y_train[nearest_indices]\n",
    "            y_pred[i] = np.bincount(nearest_labels).argmax()\n",
    "        \n",
    "        return y_pred"
   ]
  },
  {
   "attachments": {},
   "cell_type": "markdown",
   "metadata": {},
   "source": [
    "Loading and Preprocessing the training and the test data"
   ]
  },
  {
   "cell_type": "code",
   "execution_count": 9,
   "metadata": {},
   "outputs": [],
   "source": [
    "# Load the training data\n",
    "train_data = pd.read_csv('train.csv')\n",
    "x_train = train_data.drop('Survived', axis=1).values\n",
    "y_train = train_data['Survived'].values\n",
    "\n",
    "# Load the test data\n",
    "test_data = pd.read_csv('test.csv')\n",
    "\n",
    "# Preprocess the training data\n",
    "train_data_encoded = pd.get_dummies(train_data)\n",
    "\n",
    "# Preprocess the test data\n",
    "test_data_encoded = pd.get_dummies(test_data)\n",
    "\n",
    "# Get the common columns between training and test data\n",
    "common_columns = set(train_data_encoded.columns) & set(test_data_encoded.columns)\n",
    "\n",
    "# Reindex the training and test data with the common columns\n",
    "x_train_encoded = train_data_encoded.reindex(columns=common_columns, fill_value=0).values\n",
    "x_test_encoded = test_data_encoded.reindex(columns=common_columns, fill_value=0).values\n",
    "\n",
    "# Initialize and train the Naive Bayes model\n",
    "nb = NaiveBayes()\n",
    "nb.fit(x_train_encoded, y_train)\n",
    "\n",
    "# Make predictions using Naive Bayes\n",
    "nb_predictions = nb.predict(x_test_encoded)\n",
    "\n",
    "# Initialize and train the KNN model\n",
    "knn = KNN(k=5)\n",
    "knn.fit(x_train_encoded, y_train)\n",
    "\n",
    "# Make predictions using KNN\n",
    "knn_predictions = knn.predict(x_test_encoded)"
   ]
  },
  {
   "attachments": {},
   "cell_type": "markdown",
   "metadata": {},
   "source": [
    "I preprocesseed the test data by using pd.get_dummies() to perform one-hot encoding. \n",
    "This converts categorical variables into binary columns. \n",
    "I then aligned the test data with the training data columns using reindex() to ensure that they have the same set of columns."
   ]
  },
  {
   "attachments": {},
   "cell_type": "markdown",
   "metadata": {},
   "source": [
    "Calculating Accuracy"
   ]
  },
  {
   "cell_type": "code",
   "execution_count": 10,
   "metadata": {},
   "outputs": [
    {
     "name": "stdout",
     "output_type": "stream",
     "text": [
      "Naive Bayes accuracy: 0.6363636363636364\n",
      "KNN accuracy: 0.6483253588516746\n"
     ]
    }
   ],
   "source": [
    "# Load the ground truth labels\n",
    "ground_truth = pd.read_csv('gender_submission.csv')['Survived'].values\n",
    "\n",
    "# Calculate accuracy\n",
    "nb_accuracy = np.mean(nb_predictions == ground_truth)\n",
    "knn_accuracy = np.mean(knn_predictions == ground_truth)\n",
    "\n",
    "print(\"Naive Bayes accuracy:\", nb_accuracy)\n",
    "print(\"KNN accuracy:\", knn_accuracy)"
   ]
  },
  {
   "attachments": {},
   "cell_type": "markdown",
   "metadata": {},
   "source": [
    "VISUALIZATION: \n",
    "Accuracy Comparision - Naive Bayes vs KNN using bar plot"
   ]
  },
  {
   "cell_type": "code",
   "execution_count": 12,
   "metadata": {},
   "outputs": [
    {
     "data": {
      "image/png": "[encoded data removed]",
      "text/plain": [
       "<Figure size 640x480 with 1 Axes>"
      ]
     },
     "metadata": {},
     "output_type": "display_data"
    }
   ],
   "source": [
    "# Create a bar plot of the accuracies\n",
    "methods = ['Naive Bayes', 'KNN']\n",
    "accuracies = [nb_accuracy, knn_accuracy]\n",
    "\n",
    "plt.bar(methods, accuracies)\n",
    "plt.xlabel('Classification Method')\n",
    "plt.ylabel('Accuracy')\n",
    "plt.title('Accuracy Comparison - Naive Bayes vs. KNN')\n",
    "plt.ylim(0, 1)  # Set y-axis limits to ensure visibility of the bars\n",
    "plt.show()"
   ]
  }
 ],
 "metadata": {
  "kernelspec": {
   "display_name": "Python 3",
   "language": "python",
   "name": "python3"
  },
  "language_info": {
   "codemirror_mode": {
    "name": "ipython",
    "version": 3
   },
   "file_extension": ".py",
   "mimetype": "text/x-python",
   "name": "python",
   "nbconvert_exporter": "python",
   "pygments_lexer": "ipython3",
   "version": "3.10.6"
  },
  "orig_nbformat": 4
 },
 "nbformat": 4,
 "nbformat_minor": 2
}
